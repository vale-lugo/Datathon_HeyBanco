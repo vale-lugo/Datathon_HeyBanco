{
 "cells": [
  {
   "metadata": {},
   "cell_type": "code",
   "outputs": [],
   "execution_count": null,
   "source": [
    "# Load dataset using pandas from data/raw/base_transacciones_final.csv\n",
    "import pandas as pd\n",
    "\n",
    "df_client = pd.read_csv('data/raw/base_clientes_final.csv')\n",
    "df_transactions = pd.read_csv('data/raw/base_transacciones_final.csv')"
   ],
   "id": "685b627de1508ac2"
  },
  {
   "metadata": {},
   "cell_type": "code",
   "outputs": [],
   "execution_count": null,
   "source": [
    "# Add a \"month\" column to df_transactions based on \"fecha\"\n",
    "df_transactions['fecha'] = pd.to_datetime(df_transactions['fecha'])\n",
    "df_transactions['month'] = df_transactions['fecha'].dt.to_period('M')\n",
    "\n",
    "# Calculate the number of unique months per client (by id)\n",
    "month_counts = df_transactions.groupby('id')['month'].nunique().reset_index()\n",
    "month_counts.rename(columns={'month': 'month_count'}, inplace=True)\n",
    "\n",
    "# Add \"month_count\" column to df_client based on 'id'\n",
    "df_client = df_client.merge(month_counts, on='id', how='left')"
   ],
   "id": "943f7af9af4a1268"
  },
  {
   "metadata": {},
   "cell_type": "code",
   "outputs": [],
   "execution_count": null,
   "source": "df_client",
   "id": "884be5490d16060f"
  },
  {
   "metadata": {},
   "cell_type": "code",
   "outputs": [],
   "execution_count": null,
   "source": "df_transactions",
   "id": "39804345b935d64b"
  }
 ],
 "metadata": {},
 "nbformat": 4,
 "nbformat_minor": 5
}
