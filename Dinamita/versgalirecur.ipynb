{
 "cells": [
  {
   "cell_type": "markdown",
   "id": "69077743",
   "metadata": {},
   "source": [
    "LIMPIEZA Y COMBINACION DE LAS BASES DE DATOS (PASO 1)"
   ]
  },
  {
   "cell_type": "code",
   "execution_count": 1,
   "id": "905abe9e",
   "metadata": {},
   "outputs": [
    {
     "name": "stdout",
     "output_type": "stream",
     "text": [
      "Vista previa de la base combinada:\n"
     ]
    }
   ],
   "source": [
    "import pandas as pd\n",
    "\n",
    "# Cargar archivos CSV\n",
    "clientes = pd.read_csv('base_clientes_final.csv')\n",
    "transacciones = pd.read_csv('base_transacciones_final.csv')\n",
    "\n",
    "# Limpiar nombres de columnas por si acaso\n",
    "clientes.rename(columns=lambda x: x.strip(), inplace=True)\n",
    "transacciones.rename(columns=lambda x: x.strip(), inplace=True)\n",
    "\n",
    "# Combinar las bases usando 'id',,,\n",
    "base_completa = transacciones.merge(clientes, on='id', how='left')\n",
    "\n",
    "# Llenar nulos en giro_comercio\n",
    "base_completa['giro_comercio'].fillna(\"SIN CLASIFICAR\", inplace=True)\n",
    "\n",
    "# Vista previa\n",
    "print(\"Vista previa de la base combinada:\")\n",
    "#print(base_completa.head())\n",
    "\n",
    "# Guardar base combinada\n",
    "base_completa.to_csv('base_completa.csv', index=False)\n",
    "#print(\"\\n¡Archivo guardado como 'base_completa.csv'!\")"
   ]
  },
  {
   "attachments": {},
   "cell_type": "markdown",
   "id": "a636b0f3",
   "metadata": {},
   "source": [
    "DETECCIÓN DE GASTOS RECURRENTES (PASO 2)\n"
   ]
  },
  {
   "cell_type": "code",
   "execution_count": 2,
   "id": "f1799338",
   "metadata": {},
   "outputs": [],
   "source": [
    "# Asegurarse que la fecha sea tipo datetime \n",
    "base_completa['fecha'] = pd.to_datetime(base_completa['fecha'])\n",
    "\n",
    "# Crear columna año-mes\n",
    "base_completa['año_mes'] = base_completa['fecha'].dt.to_period('M')\n",
    "\n",
    "# Agrupar por cliente y comercio para contar meses distintos\n",
    "frecuencia_mensual = (\n",
    "    base_completa.groupby(['id', 'comercio'])['año_mes']\n",
    "    .nunique()\n",
    "    .reset_index(name='meses_distintos')\n",
    ")"
   ]
  },
  {
   "cell_type": "markdown",
   "id": "96865cb7",
   "metadata": {},
   "source": [
    "continuacion parte 2 para las etiquetas"
   ]
  },
  {
   "cell_type": "code",
   "execution_count": 3,
   "id": "9135e091",
   "metadata": {},
   "outputs": [],
   "source": [
    "# Calcular estadísticas de monto\n",
    "# Calcular promedio, std y número de transacciones por cliente-comercio\n",
    "agrupado_montos = base_completa.groupby(['id', 'comercio'])['monto'].agg(\n",
    "    monto_prom='mean',\n",
    "    monto_std='std',\n",
    "    num_transacciones='count'\n",
    ").reset_index()\n",
    "\n",
    "# Eliminar columnas duplicadas antes de hacer el merge para evitar conflictos de sufijos\n",
    "cols_to_drop = ['monto_prom', 'monto_std', 'num_transacciones']\n",
    "frecuencia_mensual = frecuencia_mensual.drop(columns=[col for col in cols_to_drop if col in frecuencia_mensual.columns])\n",
    "\n",
    "# Unir con frecuencia_mensual\n",
    "frecuencia_mensual = frecuencia_mensual.merge(agrupado_montos, on=['id', 'comercio'], how='left')\n",
    "\n",
    "# Calcular rupturas de meses consecutivos\n",
    "def contar_saltes(meses):\n",
    "    meses_ordenados = sorted(meses.unique())\n",
    "    diferencias = [meses_ordenados[i+1] - meses_ordenados[i] for i in range(len(meses_ordenados)-1)]\n",
    "    return sum([d.n != 1 for d in diferencias])  # d.n convierte a valor numérico\n",
    "\n",
    "rupturas = (\n",
    "    base_completa.groupby(['id', 'comercio'])['año_mes']\n",
    "    .apply(contar_saltes)\n",
    "    .reset_index(name='meses_no_consecutivos')\n",
    ")\n",
    "\n",
    "# Unir con frecuencia_mensual\n",
    "frecuencia_mensual = frecuencia_mensual.merge(rupturas, on=['id', 'comercio'], how='left')\n",
    "\n",
    "# Crear etiquetas\n",
    "\n",
    "# General: recurrente si cumple ≥7 meses, estabilidad en monto y pocos saltos\n",
    "frecuencia_mensual['es_recurrente'] = (\n",
    "    (frecuencia_mensual['meses_distintos'] >= 7) &\n",
    "    (frecuencia_mensual['monto_std'] < 100) &\n",
    "    (frecuencia_mensual['meses_no_consecutivos'] <= 2)\n",
    ").astype(int)\n",
    "\n",
    "# Fuerte: exactamente 12 meses de gasto\n",
    "frecuencia_mensual['es_recurrente_fuerte'] = (\n",
    "    frecuencia_mensual['meses_distintos'] == 12\n",
    ").astype(int)\n",
    "\n",
    "# Vista previa y exportación\n",
    "#print(frecuencia_mensual.sort_values(by='meses_distintos', ascending=False).head())\n",
    "\n",
    "frecuencia_mensual.to_csv('frecuencia_mensual_etiquetada.csv', index=False)\n",
    "#print(\"\\n¡Archivo guardado como 'frecuencia_mensual_etiquetada.csv'!\")\n"
   ]
  },
  {
   "cell_type": "markdown",
   "id": "e0f5e6a1",
   "metadata": {},
   "source": [
    "PREDECIR COMERCIO Y MONTO SIGUIENTE (PASO 3)"
   ]
  },
  {
   "cell_type": "code",
   "execution_count": 4,
   "id": "ab28755a",
   "metadata": {},
   "outputs": [],
   "source": [
    "frecuencia_mensual_etiquetada = pd.read_csv('frecuencia_mensual_etiquetada.csv')\n",
    "\n",
    "base_modelo = base_completa.merge(\n",
    "    frecuencia_mensual_etiquetada[['id', 'comercio', 'es_recurrente', 'es_recurrente_fuerte']], \n",
    "    on=['id', 'comercio'], \n",
    "    how='left'\n",
    ")\n",
    "\n",
    "# Filtrar solo los clientes recurrentes fuertes\n",
    "base_recurrente = base_modelo[(base_modelo['es_recurrente'] == 1) & (base_modelo['es_recurrente_fuerte'] == 0)].copy()\n",
    "base_recurrente = base_recurrente.sort_values(['id', 'fecha']) # Ordenar por cliente y fecha\n",
    "\n",
    "# Shift por cliente: comercio y monto siguientes\n",
    "# Calcular targets: comercio y monto siguientes\n",
    "base_recurrente['comercio_siguiente'] = (\n",
    "    base_recurrente.groupby('id')['comercio'].shift(-1)\n",
    ")\n",
    "base_recurrente['monto_siguiente'] = (\n",
    "    base_recurrente.groupby('id')['monto'].shift(-1)\n",
    ")\n",
    "\n",
    "# Eliminar la última compra de cada cliente (no hay siguiente)\n",
    "base_recurrente = base_recurrente.dropna(subset=['comercio_siguiente', 'monto_siguiente'])\n"
   ]
  },
  {
   "cell_type": "markdown",
   "id": "a078a331",
   "metadata": {},
   "source": [
    "Modelo clasificación comercio siguiente"
   ]
  },
  {
   "cell_type": "code",
   "execution_count": 5,
   "id": "9cbe4a81",
   "metadata": {},
   "outputs": [
    {
     "name": "stdout",
     "output_type": "stream",
     "text": [
      "Accuracy en test: 0.31\n"
     ]
    }
   ],
   "source": [
    "from sklearn.preprocessing import OneHotEncoder\n",
    "from sklearn.ensemble import RandomForestClassifier\n",
    "from sklearn.model_selection import train_test_split\n",
    "from sklearn.metrics import r2_score\n",
    "\n",
    "\n",
    "# One-hot para giro_comercio (o comercio actual)\n",
    "X = base_recurrente[['giro_comercio', 'monto']].copy()\n",
    "X = pd.get_dummies(X, columns=['giro_comercio'])\n",
    "\n",
    "y = base_recurrente['comercio_siguiente']\n",
    "\n",
    "# Split\n",
    "X_train, X_test, y_train, y_test = train_test_split(X, y, test_size=0.2, random_state=42)\n",
    "\n",
    "# Modelo\n",
    "clf = RandomForestClassifier(n_estimators=100, random_state=42)\n",
    "clf.fit(X_train, y_train)\n",
    "\n",
    "print(f\"Accuracy en test: {clf.score(X_test, y_test):.2f}\")"
   ]
  },
  {
   "cell_type": "code",
   "execution_count": 6,
   "id": "1c0254e4",
   "metadata": {},
   "outputs": [],
   "source": [
    "import pandas as pd\n",
    "import numpy as np\n",
    "\n",
    "# Asegúrate de que fecha es datetime\n",
    "base_recurrente['fecha'] = pd.to_datetime(base_recurrente['fecha'])\n",
    "\n",
    "# Ordenar por cliente y fecha\n",
    "base_recurrente = base_recurrente.sort_values(['id', 'fecha'])\n",
    "\n",
    "# Lags de montos\n",
    "base_recurrente['monto_lag1'] = base_recurrente.groupby('id')['monto'].shift(1)\n",
    "base_recurrente['monto_lag2'] = base_recurrente.groupby('id')['monto'].shift(2)\n",
    "\n",
    "# Estadísticas históricas (cálculo expandido)\n",
    "base_recurrente['monto_mean'] = base_recurrente.groupby('id')['monto'].expanding().mean().shift(1).reset_index(level=0, drop=True)\n",
    "base_recurrente['monto_median'] = base_recurrente.groupby('id')['monto'].expanding().median().shift(1).reset_index(level=0, drop=True)\n",
    "base_recurrente['monto_std'] = base_recurrente.groupby('id')['monto'].expanding().std().shift(1).reset_index(level=0, drop=True)\n",
    "\n",
    "# Días desde última compra\n",
    "base_recurrente['fecha_lag'] = base_recurrente.groupby('id')['fecha'].shift(1)\n",
    "base_recurrente['dias_desde_ultima'] = (base_recurrente['fecha'] - base_recurrente['fecha_lag']).dt.days\n",
    "# Crear dummies sin eliminar la columna original\n",
    "dummies = pd.get_dummies(base_recurrente['giro_comercio'], prefix='giro_comercio', drop_first=True)\n",
    "\n",
    "# Concatenar las dummies al DataFrame\n",
    "base_recurrente = pd.concat([base_recurrente, dummies], axis=1)\n",
    "base_modelo = base_recurrente.dropna(subset=[\n",
    "    'monto_lag1', 'monto_lag2', 'monto_mean', 'monto_median', 'monto_std', 'dias_desde_ultima'\n",
    "])\n",
    "# Seleccionar columnas numéricas + one-hot de giro_comercio\n",
    "columnas_modelo = [\n",
    "    'monto_lag1', 'monto_lag2', \n",
    "    'monto_mean', 'monto_median', 'monto_std',\n",
    "    'dias_desde_ultima'\n",
    "] + [col for col in base_modelo.columns if col.startswith('giro_comercio_')]\n",
    "\n",
    "X = base_modelo[columnas_modelo]\n"
   ]
  },
  {
   "cell_type": "markdown",
   "id": "62d1884a",
   "metadata": {},
   "source": [
    "Modelo regresión monto siguiente"
   ]
  },
  {
   "cell_type": "code",
   "execution_count": 7,
   "id": "6cbb7052",
   "metadata": {},
   "outputs": [
    {
     "name": "stdout",
     "output_type": "stream",
     "text": [
      "RMSE del monto siguiente: 38.15\n",
      "R² del modelo: 0.1449\n"
     ]
    }
   ],
   "source": [
    "from sklearn.ensemble import RandomForestRegressor\n",
    "from sklearn.metrics import mean_squared_error\n",
    "import numpy as np\n",
    "from sklearn.metrics import r2_score\n",
    "import pandas as pd\n",
    "\n",
    "y_monto = base_modelo['monto_siguiente']\n",
    "\n",
    "X_train_m, X_test_m, y_train_m, y_test_m = train_test_split(X, y_monto, test_size=0.2, random_state=42)\n",
    "\n",
    "reg = RandomForestRegressor(n_estimators=100, random_state=42)\n",
    "reg.fit(X_train_m, y_train_m)\n",
    "\n",
    "preds = reg.predict(X_test_m)\n",
    "mse = mean_squared_error(y_test_m, preds)\n",
    "rmse = np.sqrt(mse)\n",
    "\n",
    "\n",
    "print(f\"RMSE del monto siguiente: {rmse:.2f}\")\n",
    "# Supón que ya tienes tu modelo entrenado y predicciones hechas\n",
    "r2 = r2_score(y_test_m, preds)\n",
    "print(f\"R² del modelo: {r2:.4f}\")"
   ]
  },
  {
   "cell_type": "markdown",
   "id": "c7b30cdc",
   "metadata": {},
   "source": [
    "PREDECIR TIEMPO HASTA PRÓXIMA COMPRA (PASO 4)"
   ]
  },
  {
   "cell_type": "code",
   "execution_count": 8,
   "id": "527d9c3c",
   "metadata": {},
   "outputs": [],
   "source": [
    "# Asegurarse de que la fecha esté en formato datetime\n",
    "base_completa = base_recurrente\n",
    "base_completa['fecha'] = pd.to_datetime(base_completa['fecha'])\n",
    "\n",
    "# Ordenar por cliente, comercio y fecha (¡fundamental!)\n",
    "base_completa.sort_values(['id', 'comercio', 'fecha'], inplace=True)\n",
    "\n",
    "# Crear columnas con la siguiente fecha y monto por cada pareja (id, comercio)\n",
    "base_completa['fecha_siguiente'] = base_completa.groupby(['id', 'comercio'])['fecha'].shift(-1)\n",
    "base_completa['monto_siguiente'] = base_completa.groupby(['id', 'comercio'])['monto'].shift(-1)\n",
    "\n",
    "# Crear variable target: días hasta la siguiente transacción\n",
    "base_completa['dias_hasta_siguiente'] = (base_completa['fecha_siguiente'] - base_completa['fecha']).dt.days\n",
    "base_train = base_completa.dropna(subset=['dias_hasta_siguiente'])\n",
    "base_completa['dias_entre_compras'] = base_completa.groupby(['id', 'comercio'])['fecha'].diff().dt.days\n",
    "\n",
    "# Estadísticas temporales\n",
    "estadisticas_tiempo = base_completa.groupby(['id', 'comercio'])['dias_entre_compras'].agg(\n",
    "    media_dias_entre_compras='mean',\n",
    "    mediana_dias_entre_compras='median'\n",
    ").reset_index()\n",
    "\n",
    "# Agregar estas estadísticas a base_completa\n",
    "base_completa = base_completa.merge(estadisticas_tiempo, on=['id', 'comercio'], how='left')\n",
    "#base_completa = base_completa.merge(estadisticas_tiempo2, on=['id', 'comercio'], how='left')\n",
    "\n",
    "# --- Preparar datos para regresión de días ---\n",
    "\n",
    "# Filtrar filas que tengan target definido (sin nulos)\n",
    "base_train = base_completa.dropna(subset=['dias_hasta_siguiente'])\n",
    "\n",
    "X = base_train[['monto', 'giro_comercio', 'fecha', 'media_dias_entre_compras', 'mediana_dias_entre_compras']].copy()\n",
    "\n",
    "# Extraer variables de fecha para incluirlas como features\n",
    "X['mes'] = X['fecha'].dt.month\n",
    "X['dia_semana'] = X['fecha'].dt.dayofweek\n",
    "\n",
    "# Eliminar columna fecha porque no la usaremos directamente\n",
    "X.drop(columns=['fecha'], inplace=True)\n",
    "\n",
    "# Convertir variable categórica 'giro_comercio' a variables dummy (one-hot encoding)\n",
    "X = pd.get_dummies(X, drop_first=True)\n",
    "\n",
    "# Variable objetivo\n",
    "y = base_train['dias_hasta_siguiente']\n"
   ]
  },
  {
   "cell_type": "markdown",
   "id": "1a9e1025",
   "metadata": {},
   "source": [
    "Entrenar modelo"
   ]
  },
  {
   "cell_type": "code",
   "execution_count": 9,
   "id": "09e1b935",
   "metadata": {},
   "outputs": [
    {
     "name": "stdout",
     "output_type": "stream",
     "text": [
      "MAE mejorado: 5.63 días\n",
      "Median Absolute Error: 2.43\n",
      "R² del modelo: 0.3631\n"
     ]
    }
   ],
   "source": [
    "from sklearn.model_selection import train_test_split\n",
    "from sklearn.ensemble import RandomForestRegressor\n",
    "from sklearn.metrics import mean_absolute_error\n",
    "from sklearn.metrics import median_absolute_error\n",
    "\n",
    "X_train, X_test, y_train, y_test = train_test_split(X, y, test_size=0.2, random_state=49)\n",
    "\n",
    "rf = RandomForestRegressor(n_estimators=100, n_jobs=-1, random_state=49)\n",
    "rf.fit(X_train, y_train)\n",
    "\n",
    "preds = rf.predict(X_test)\n",
    "mae = mean_absolute_error(y_test, preds)\n",
    "medae = median_absolute_error(y_test, preds)\n",
    "print(f\"MAE mejorado: {mae:.2f} días\")\n",
    "print(f\"Median Absolute Error: {medae:.2f}\")\n",
    "r2 = r2_score(y_test, preds)\n",
    "\n",
    "print(f\"R² del modelo: {r2:.4f}\")\n"
   ]
  }
 ],
 "metadata": {
  "kernelspec": {
   "display_name": "Python 3",
   "language": "python",
   "name": "python3"
  },
  "language_info": {
   "codemirror_mode": {
    "name": "ipython",
    "version": 3
   },
   "file_extension": ".py",
   "mimetype": "text/x-python",
   "name": "python",
   "nbconvert_exporter": "python",
   "pygments_lexer": "ipython3",
   "version": "3.10.11 (tags/v3.10.11:7d4cc5a, Apr  5 2023, 00:38:17) [MSC v.1929 64 bit (AMD64)]"
  },
  "vscode": {
   "interpreter": {
    "hash": "001dc15ad77babc49301626663976d6caf22cd76978e46ca74a2f3f3b6dfe971"
   }
  }
 },
 "nbformat": 4,
 "nbformat_minor": 5
}
